{
 "cells": [
  {
   "cell_type": "raw",
   "id": "62d03f24",
   "metadata": {},
   "source": [
    "1.Write a function which will take a string and return the length of it without using a len().\n"
   ]
  },
  {
   "cell_type": "code",
   "execution_count": 29,
   "id": "c7517de4",
   "metadata": {},
   "outputs": [],
   "source": [
    "def length(s):\n",
    "    \"\"\" This function returns length of a string without using\n",
    "    an inbuilt function\"\"\"\n",
    "    t=0\n",
    "    for i in s :\n",
    "        t=t+1\n",
    "    print(t)    \n",
    "    return t    \n",
    "    \n"
   ]
  },
  {
   "cell_type": "code",
   "execution_count": 30,
   "id": "231237e3",
   "metadata": {},
   "outputs": [
    {
     "name": "stdout",
     "output_type": "stream",
     "text": [
      "7\n"
     ]
    },
    {
     "data": {
      "text/plain": [
       "7"
      ]
     },
     "execution_count": 30,
     "metadata": {},
     "output_type": "execute_result"
    }
   ],
   "source": [
    "length(\"Amazing\")"
   ]
  },
  {
   "cell_type": "raw",
   "id": "3ab98197",
   "metadata": {},
   "source": [
    "2. Write a function to print the indexes of all the primitive element u pass.\n"
   ]
  },
  {
   "cell_type": "code",
   "execution_count": 45,
   "id": "ba9d2e2f",
   "metadata": {},
   "outputs": [],
   "source": [
    "def ind(s):\n",
    "    \"\"\" This function return the index of a primitive element u pass\"\"\"\n",
    "    j=0\n",
    "    if type(s)!=str:\n",
    "        s=str(s)\n",
    "    for i in s:\n",
    "        print(\"Index of\",i,\"is\",j)\n",
    "        j=j+1\n",
    "       "
   ]
  },
  {
   "cell_type": "code",
   "execution_count": 47,
   "id": "f0390a51",
   "metadata": {},
   "outputs": [
    {
     "name": "stdout",
     "output_type": "stream",
     "text": [
      "Index of 1 is 0\n",
      "Index of 2 is 1\n",
      "Index of 3 is 2\n",
      "Index of 4 is 3\n",
      "Index of 5 is 4\n"
     ]
    }
   ],
   "source": [
    "ind(12345)"
   ]
  },
  {
   "cell_type": "raw",
   "id": "a99a19a3",
   "metadata": {},
   "source": [
    "6. Write a function which will be able to take a list as an input and return index\n",
    "  of each element like a inbuilt index fn but even if we have repetative element it\n",
    "    should return index"
   ]
  },
  {
   "cell_type": "code",
   "execution_count": 36,
   "id": "54bd1a69",
   "metadata": {},
   "outputs": [],
   "source": [
    "a=[]\n",
    "def index(a):\n",
    "    ct=0\n",
    "    for i in a:\n",
    "        print(\"Index Of\",i,\"Is\",ct)\n",
    "        ct=ct+1 "
   ]
  },
  {
   "cell_type": "code",
   "execution_count": 37,
   "id": "0690ec4c",
   "metadata": {},
   "outputs": [
    {
     "name": "stdout",
     "output_type": "stream",
     "text": [
      "Index Of 2 Is 0\n",
      "Index Of 2 Is 1\n",
      "Index Of 4 Is 2\n",
      "Index Of 4 Is 3\n",
      "Index Of 7 Is 4\n",
      "Index Of 3.5 Is 5\n",
      "Index Of (6+9j) Is 6\n",
      "Index Of 8 Is 7\n",
      "Index Of (4, 1, 3) Is 8\n"
     ]
    }
   ],
   "source": [
    "index([2,2,4,4,7,3.5,6+9j,8,(4,1,3)])"
   ]
  },
  {
   "cell_type": "raw",
   "id": "3b5f7eb7",
   "metadata": {},
   "source": []
  },
  {
   "cell_type": "raw",
   "id": "faf64901",
   "metadata": {},
   "source": [
    "3. Write a function which will take input as a dict and give me out as a list\n",
    "of all the values even in case of two level it should work."
   ]
  },
  {
   "cell_type": "code",
   "execution_count": 38,
   "id": "7993e88c",
   "metadata": {},
   "outputs": [],
   "source": [
    "d={}\n",
    "def dvalues(d):\n",
    "    \"\"\" This function takes dict as input and gives all the values even in case of two level\"\"\"\n",
    "    l=[]\n",
    "    for i,j in d.items():\n",
    "        if type(d[i])== dict :\n",
    "            for j in d[i]:\n",
    "                l.append(d[i][j])\n",
    "        if type(d[i])!= dict:\n",
    "            l.append(d[i])\n",
    "    return(l)        "
   ]
  },
  {
   "cell_type": "code",
   "execution_count": 39,
   "id": "cc87c4b3",
   "metadata": {},
   "outputs": [
    {
     "data": {
      "text/plain": [
       "[82, 78, 79, 67, 89]"
      ]
     },
     "execution_count": 39,
     "metadata": {},
     "output_type": "execute_result"
    }
   ],
   "source": [
    "dvalues({\"masters\":{\"sem1\": 82,\"sem2\":78,\"sem3\":79},\"Bachelors\":{\"sem4\":67,\"sem5\":89}})"
   ]
  },
  {
   "cell_type": "raw",
   "id": "fc7baf9a",
   "metadata": {},
   "source": [
    "4. Write a function which will take another funcion as an input and return me an output.\n"
   ]
  },
  {
   "cell_type": "code",
   "execution_count": 34,
   "id": "7df52f47",
   "metadata": {},
   "outputs": [],
   "source": [
    "def f():\n",
    "    return\n",
    "def f1(f):\n",
    "    \"\"\"This function takes another function as an input and returns an output\"\"\"\n",
    "    return"
   ]
  },
  {
   "cell_type": "code",
   "execution_count": 35,
   "id": "952dc78c",
   "metadata": {},
   "outputs": [
    {
     "name": "stdout",
     "output_type": "stream",
     "text": [
      "6\n"
     ]
    }
   ],
   "source": [
    "f1(length(\"Sahana\"))"
   ]
  },
  {
   "cell_type": "raw",
   "id": "095d1452",
   "metadata": {},
   "source": [
    "5. Write a Function which will take list as an input and give me concatenation of all the element as an output.\n"
   ]
  },
  {
   "cell_type": "code",
   "execution_count": 13,
   "id": "f409a4f1",
   "metadata": {},
   "outputs": [],
   "source": [
    "def concat(l1):\n",
    "    \"\"\"This Function takes list as an input and gives concatenation of all elements\"\"\"\n",
    "    out=\"\"\n",
    "    for i in l1:\n",
    "        if type(i) != str:\n",
    "          out=out+str(i)\n",
    "        else:\n",
    "            out=out+i\n",
    "    return out       "
   ]
  },
  {
   "cell_type": "code",
   "execution_count": 15,
   "id": "90e994e8",
   "metadata": {},
   "outputs": [
    {
     "data": {
      "text/plain": [
       "'24SujaSenthil4.5(3+4j)'"
      ]
     },
     "execution_count": 15,
     "metadata": {},
     "output_type": "execute_result"
    }
   ],
   "source": [
    "concat([2,4,\"Suja\",\"Senthil\",4.5,3+4j])"
   ]
  },
  {
   "cell_type": "code",
   "execution_count": null,
   "id": "8d067684",
   "metadata": {},
   "outputs": [],
   "source": [
    "7. Write a function which will return list of all file names in a directory\n"
   ]
  },
  {
   "cell_type": "code",
   "execution_count": 15,
   "id": "a4e62eed",
   "metadata": {},
   "outputs": [],
   "source": [
    "import os\n",
    "def filename():\n",
    "    \"\"\" This function will return list of all file names in a directory\"\"\"\n",
    "    lofiles=os.listdir(\".\")\n",
    "    return lofiles"
   ]
  },
  {
   "cell_type": "code",
   "execution_count": 16,
   "id": "8ed88116",
   "metadata": {},
   "outputs": [
    {
     "data": {
      "text/plain": [
       "['.conda',\n",
       " '.condarc',\n",
       " '.continuum',\n",
       " '.ipynb_checkpoints',\n",
       " '.ipython',\n",
       " '.jupyter',\n",
       " '.python_history',\n",
       " '3D Objects',\n",
       " '7th march live class notebook for loop while and range function  (1).ipynb',\n",
       " 'anaconda3',\n",
       " 'AppData',\n",
       " 'Application Data',\n",
       " 'BullseyeCoverageError.txt',\n",
       " 'classthurs.ipynb',\n",
       " 'Contacts',\n",
       " 'Cookies',\n",
       " 'Desktop',\n",
       " 'Documents',\n",
       " 'Downloads',\n",
       " 'ex.ipynb',\n",
       " 'Favorites',\n",
       " 'IntelGraphicsProfiles',\n",
       " 'Links',\n",
       " 'Local Settings',\n",
       " 'MicrosoftEdgeBackups',\n",
       " 'Music',\n",
       " 'My Documents',\n",
       " 'NetHood',\n",
       " 'NTUSER.DAT',\n",
       " 'ntuser.dat.LOG1',\n",
       " 'ntuser.dat.LOG2',\n",
       " 'NTUSER.DAT{53b39e88-18c4-11ea-a811-000d3aa4692b}.TM.blf',\n",
       " 'NTUSER.DAT{53b39e88-18c4-11ea-a811-000d3aa4692b}.TMContainer00000000000000000001.regtrans-ms',\n",
       " 'NTUSER.DAT{53b39e88-18c4-11ea-a811-000d3aa4692b}.TMContainer00000000000000000002.regtrans-ms',\n",
       " 'ntuser.ini',\n",
       " 'OneDrive',\n",
       " 'Pictures',\n",
       " 'PrintHood',\n",
       " 'pyprograms.ipynb',\n",
       " 'python basic (2).ipynb',\n",
       " 'pythonasgn1.ipynb',\n",
       " 'pythonprasgn1.ipynb',\n",
       " 'pythonprasgn2.ipynb',\n",
       " 'Recent',\n",
       " 'sample.doc.docx',\n",
       " 'sample1.doc.docx',\n",
       " 'Saved Games',\n",
       " 'Searches',\n",
       " 'SendTo',\n",
       " 'Start Menu',\n",
       " 'Templates',\n",
       " 'tuesclass.ipynb',\n",
       " 'Untitled.ipynb',\n",
       " 'Untitled1.ipynb',\n",
       " 'Untitled10.ipynb',\n",
       " 'Untitled11.ipynb',\n",
       " 'Untitled12.ipynb',\n",
       " 'Untitled13.ipynb',\n",
       " 'Untitled14.ipynb',\n",
       " 'Untitled15.ipynb',\n",
       " 'Untitled16.ipynb',\n",
       " 'Untitled17.ipynb',\n",
       " 'Untitled18.ipynb',\n",
       " 'Untitled19.ipynb',\n",
       " 'Untitled2.ipynb',\n",
       " 'Untitled20.ipynb',\n",
       " 'Untitled21.ipynb',\n",
       " 'Untitled3.ipynb',\n",
       " 'Untitled4.ipynb',\n",
       " 'Untitled5.ipynb',\n",
       " 'Untitled6.ipynb',\n",
       " 'Untitled7.ipynb',\n",
       " 'Untitled8.ipynb',\n",
       " 'Untitled9.ipynb',\n",
       " 'Videos',\n",
       " '~$mple1.doc.docx']"
      ]
     },
     "execution_count": 16,
     "metadata": {},
     "output_type": "execute_result"
    }
   ],
   "source": [
    "filename()"
   ]
  },
  {
   "cell_type": "raw",
   "id": "7eed1f7e",
   "metadata": {},
   "source": [
    "9.Write a function which can show date and time.\n"
   ]
  },
  {
   "cell_type": "code",
   "execution_count": 15,
   "id": "803e24f4",
   "metadata": {},
   "outputs": [],
   "source": [
    "def time():\n",
    "    \"\"\"This function shows today's date and time\"\"\"\n",
    "    from datetime import date\n",
    "    from datetime import datetime\n",
    "    today= date.today()\n",
    "    time=datetime.now()\n",
    "    d=today.strftime(\" %d %B %Y\")\n",
    "    print(\"Today's Date :\",d)\n",
    "    t=time.strftime(\"%d/%m/%Y %H:%M:%S\")\n",
    "    print(\"Today's Date and Time :\",t)"
   ]
  },
  {
   "cell_type": "code",
   "execution_count": 16,
   "id": "40c7f578",
   "metadata": {},
   "outputs": [
    {
     "name": "stdout",
     "output_type": "stream",
     "text": [
      "Today's Date :  30 December 2021\n",
      "Today's Date and Time : 30/12/2021 17:32:43\n"
     ]
    }
   ],
   "source": [
    "time()"
   ]
  },
  {
   "cell_type": "raw",
   "id": "f4e90414",
   "metadata": {},
   "source": [
    "10.Write a function to read an image file and show it to u.\n"
   ]
  },
  {
   "cell_type": "code",
   "execution_count": 11,
   "id": "36ba6800",
   "metadata": {},
   "outputs": [],
   "source": [
    "def imageshow():\n",
    "    \"\"\"This function reads an image file and show it to u\"\"\"\n",
    "    from PIL import Image\n",
    "    img=Image.open('surya.jpg')\n",
    "    img.show()"
   ]
  },
  {
   "cell_type": "code",
   "execution_count": 12,
   "id": "04c83dd0",
   "metadata": {},
   "outputs": [],
   "source": [
    "imageshow()"
   ]
  },
  {
   "cell_type": "raw",
   "id": "ea4198ad",
   "metadata": {},
   "source": [
    "\n",
    "11. Write a function which can play video file and play for u.\n"
   ]
  },
  {
   "cell_type": "code",
   "execution_count": 7,
   "id": "9659d6f1",
   "metadata": {},
   "outputs": [],
   "source": [
    "def videoplay():\n",
    "    \"\"\"This function plays a video file\"\"\"\n",
    "    import cv2\n",
    "    import numpy as np\n",
    "    cap=cv2.VideoCapture('meerabhai.mp4')\n",
    "    if (cap.isOpened()==False):\n",
    "        print(\"Error opening file\")\n",
    "    while(cap.isOpened()):\n",
    "        ret,frame=cap.read()\n",
    "        if ret== True:\n",
    "            cv2.imshow('Frame',frame)\n",
    "            if cv2.waitKey(25) & 0xFF==ord('q'):\n",
    "                break\n",
    "        else:\n",
    "            break\n",
    "    cap.release()\n",
    "    cv2.destroyAllWindows()"
   ]
  },
  {
   "cell_type": "code",
   "execution_count": 9,
   "id": "c75b2b32",
   "metadata": {},
   "outputs": [],
   "source": [
    "videoplay()"
   ]
  },
  {
   "cell_type": "code",
   "execution_count": null,
   "id": "5f6b2828",
   "metadata": {},
   "outputs": [],
   "source": []
  },
  {
   "cell_type": "code",
   "execution_count": null,
   "id": "62b70393",
   "metadata": {},
   "outputs": [],
   "source": [
    "12. Write a function which can move a file from one directory to another directory.\n"
   ]
  },
  {
   "cell_type": "code",
   "execution_count": 9,
   "id": "c9c4c887",
   "metadata": {},
   "outputs": [],
   "source": [
    "import shutil\n",
    "def filemove():\n",
    "    \"\"\" this function moves a file from one directory to other\"\"\"\n",
    "    source=str(input(\"Enter the file name to move:\"))\n",
    "    dest=str(input(\"Enter the destination directory :\"))\n",
    "    new=shutil.move(source,dest)\n",
    "    print(new)"
   ]
  },
  {
   "cell_type": "code",
   "execution_count": 10,
   "id": "961b8361",
   "metadata": {},
   "outputs": [
    {
     "name": "stdout",
     "output_type": "stream",
     "text": [
      "Enter the file name to move:D:\\\\Word Surya.docx\n",
      "Enter the destination directory :C:\\\\Users\\\\Admin\n",
      "C:\\\\Users\\\\Admin\\Word Surya.docx\n"
     ]
    }
   ],
   "source": [
    "filemove()"
   ]
  },
  {
   "cell_type": "raw",
   "id": "5b45b945",
   "metadata": {},
   "source": [
    "13. Write a function by which I can send a mail to anyone.\n",
    "\n"
   ]
  },
  {
   "cell_type": "code",
   "execution_count": 4,
   "id": "e7f1edef",
   "metadata": {},
   "outputs": [],
   "source": [
    "import smtplib\n",
    "def email():\n",
    "    \"\"\"This Function allows u to send email to someone\"\"\"\n",
    "    s=smtplib.SMTP(\"smpt.gmail.com\",587)\n",
    "    s.starttls()\n",
    "    s.login(\"sujavijayaraghavan@gmail.com\",\"14Senthil\")\n",
    "    message=\"Hi ... This is my first email to u thro python program.\"\n",
    "    s.sendmail(\"sujavijayaraghavan@gmail.com\",\"ssenthilsalem@gmail.com\",message)\n",
    "    print(\"Email sent successfully\")\n",
    "    s.quit()\n"
   ]
  },
  {
   "cell_type": "code",
   "execution_count": 6,
   "id": "303e7280",
   "metadata": {},
   "outputs": [
    {
     "ename": "gaierror",
     "evalue": "[Errno 11001] getaddrinfo failed",
     "output_type": "error",
     "traceback": [
      "\u001b[1;31m---------------------------------------------------------------------------\u001b[0m",
      "\u001b[1;31mgaierror\u001b[0m                                  Traceback (most recent call last)",
      "\u001b[1;32m~\\AppData\\Local\\Temp/ipykernel_2788/764452411.py\u001b[0m in \u001b[0;36m<module>\u001b[1;34m\u001b[0m\n\u001b[1;32m----> 1\u001b[1;33m \u001b[0memail\u001b[0m\u001b[1;33m(\u001b[0m\u001b[1;33m)\u001b[0m\u001b[1;33m\u001b[0m\u001b[1;33m\u001b[0m\u001b[0m\n\u001b[0m",
      "\u001b[1;32m~\\AppData\\Local\\Temp/ipykernel_2788/3094005600.py\u001b[0m in \u001b[0;36memail\u001b[1;34m()\u001b[0m\n\u001b[0;32m      2\u001b[0m \u001b[1;32mdef\u001b[0m \u001b[0memail\u001b[0m\u001b[1;33m(\u001b[0m\u001b[1;33m)\u001b[0m\u001b[1;33m:\u001b[0m\u001b[1;33m\u001b[0m\u001b[1;33m\u001b[0m\u001b[0m\n\u001b[0;32m      3\u001b[0m     \u001b[1;34m\"\"\"This Function allows u to send email to someone\"\"\"\u001b[0m\u001b[1;33m\u001b[0m\u001b[1;33m\u001b[0m\u001b[0m\n\u001b[1;32m----> 4\u001b[1;33m     \u001b[0ms\u001b[0m\u001b[1;33m=\u001b[0m\u001b[0msmtplib\u001b[0m\u001b[1;33m.\u001b[0m\u001b[0mSMTP\u001b[0m\u001b[1;33m(\u001b[0m\u001b[1;34m\"smpt.gmail.com\"\u001b[0m\u001b[1;33m,\u001b[0m\u001b[1;36m587\u001b[0m\u001b[1;33m)\u001b[0m\u001b[1;33m\u001b[0m\u001b[1;33m\u001b[0m\u001b[0m\n\u001b[0m\u001b[0;32m      5\u001b[0m     \u001b[0ms\u001b[0m\u001b[1;33m.\u001b[0m\u001b[0mstarttls\u001b[0m\u001b[1;33m(\u001b[0m\u001b[1;33m)\u001b[0m\u001b[1;33m\u001b[0m\u001b[1;33m\u001b[0m\u001b[0m\n\u001b[0;32m      6\u001b[0m     \u001b[0ms\u001b[0m\u001b[1;33m.\u001b[0m\u001b[0mlogin\u001b[0m\u001b[1;33m(\u001b[0m\u001b[1;34m\"sujavijayaraghavan@gmail.com\"\u001b[0m\u001b[1;33m,\u001b[0m\u001b[1;34m\"14Senthil\"\u001b[0m\u001b[1;33m)\u001b[0m\u001b[1;33m\u001b[0m\u001b[1;33m\u001b[0m\u001b[0m\n",
      "\u001b[1;32m~\\anaconda3\\lib\\smtplib.py\u001b[0m in \u001b[0;36m__init__\u001b[1;34m(self, host, port, local_hostname, timeout, source_address)\u001b[0m\n\u001b[0;32m    253\u001b[0m \u001b[1;33m\u001b[0m\u001b[0m\n\u001b[0;32m    254\u001b[0m         \u001b[1;32mif\u001b[0m \u001b[0mhost\u001b[0m\u001b[1;33m:\u001b[0m\u001b[1;33m\u001b[0m\u001b[1;33m\u001b[0m\u001b[0m\n\u001b[1;32m--> 255\u001b[1;33m             \u001b[1;33m(\u001b[0m\u001b[0mcode\u001b[0m\u001b[1;33m,\u001b[0m \u001b[0mmsg\u001b[0m\u001b[1;33m)\u001b[0m \u001b[1;33m=\u001b[0m \u001b[0mself\u001b[0m\u001b[1;33m.\u001b[0m\u001b[0mconnect\u001b[0m\u001b[1;33m(\u001b[0m\u001b[0mhost\u001b[0m\u001b[1;33m,\u001b[0m \u001b[0mport\u001b[0m\u001b[1;33m)\u001b[0m\u001b[1;33m\u001b[0m\u001b[1;33m\u001b[0m\u001b[0m\n\u001b[0m\u001b[0;32m    256\u001b[0m             \u001b[1;32mif\u001b[0m \u001b[0mcode\u001b[0m \u001b[1;33m!=\u001b[0m \u001b[1;36m220\u001b[0m\u001b[1;33m:\u001b[0m\u001b[1;33m\u001b[0m\u001b[1;33m\u001b[0m\u001b[0m\n\u001b[0;32m    257\u001b[0m                 \u001b[0mself\u001b[0m\u001b[1;33m.\u001b[0m\u001b[0mclose\u001b[0m\u001b[1;33m(\u001b[0m\u001b[1;33m)\u001b[0m\u001b[1;33m\u001b[0m\u001b[1;33m\u001b[0m\u001b[0m\n",
      "\u001b[1;32m~\\anaconda3\\lib\\smtplib.py\u001b[0m in \u001b[0;36mconnect\u001b[1;34m(self, host, port, source_address)\u001b[0m\n\u001b[0;32m    339\u001b[0m             \u001b[0mport\u001b[0m \u001b[1;33m=\u001b[0m \u001b[0mself\u001b[0m\u001b[1;33m.\u001b[0m\u001b[0mdefault_port\u001b[0m\u001b[1;33m\u001b[0m\u001b[1;33m\u001b[0m\u001b[0m\n\u001b[0;32m    340\u001b[0m         \u001b[0msys\u001b[0m\u001b[1;33m.\u001b[0m\u001b[0maudit\u001b[0m\u001b[1;33m(\u001b[0m\u001b[1;34m\"smtplib.connect\"\u001b[0m\u001b[1;33m,\u001b[0m \u001b[0mself\u001b[0m\u001b[1;33m,\u001b[0m \u001b[0mhost\u001b[0m\u001b[1;33m,\u001b[0m \u001b[0mport\u001b[0m\u001b[1;33m)\u001b[0m\u001b[1;33m\u001b[0m\u001b[1;33m\u001b[0m\u001b[0m\n\u001b[1;32m--> 341\u001b[1;33m         \u001b[0mself\u001b[0m\u001b[1;33m.\u001b[0m\u001b[0msock\u001b[0m \u001b[1;33m=\u001b[0m \u001b[0mself\u001b[0m\u001b[1;33m.\u001b[0m\u001b[0m_get_socket\u001b[0m\u001b[1;33m(\u001b[0m\u001b[0mhost\u001b[0m\u001b[1;33m,\u001b[0m \u001b[0mport\u001b[0m\u001b[1;33m,\u001b[0m \u001b[0mself\u001b[0m\u001b[1;33m.\u001b[0m\u001b[0mtimeout\u001b[0m\u001b[1;33m)\u001b[0m\u001b[1;33m\u001b[0m\u001b[1;33m\u001b[0m\u001b[0m\n\u001b[0m\u001b[0;32m    342\u001b[0m         \u001b[0mself\u001b[0m\u001b[1;33m.\u001b[0m\u001b[0mfile\u001b[0m \u001b[1;33m=\u001b[0m \u001b[1;32mNone\u001b[0m\u001b[1;33m\u001b[0m\u001b[1;33m\u001b[0m\u001b[0m\n\u001b[0;32m    343\u001b[0m         \u001b[1;33m(\u001b[0m\u001b[0mcode\u001b[0m\u001b[1;33m,\u001b[0m \u001b[0mmsg\u001b[0m\u001b[1;33m)\u001b[0m \u001b[1;33m=\u001b[0m \u001b[0mself\u001b[0m\u001b[1;33m.\u001b[0m\u001b[0mgetreply\u001b[0m\u001b[1;33m(\u001b[0m\u001b[1;33m)\u001b[0m\u001b[1;33m\u001b[0m\u001b[1;33m\u001b[0m\u001b[0m\n",
      "\u001b[1;32m~\\anaconda3\\lib\\smtplib.py\u001b[0m in \u001b[0;36m_get_socket\u001b[1;34m(self, host, port, timeout)\u001b[0m\n\u001b[0;32m    310\u001b[0m         \u001b[1;32mif\u001b[0m \u001b[0mself\u001b[0m\u001b[1;33m.\u001b[0m\u001b[0mdebuglevel\u001b[0m \u001b[1;33m>\u001b[0m \u001b[1;36m0\u001b[0m\u001b[1;33m:\u001b[0m\u001b[1;33m\u001b[0m\u001b[1;33m\u001b[0m\u001b[0m\n\u001b[0;32m    311\u001b[0m             \u001b[0mself\u001b[0m\u001b[1;33m.\u001b[0m\u001b[0m_print_debug\u001b[0m\u001b[1;33m(\u001b[0m\u001b[1;34m'connect: to'\u001b[0m\u001b[1;33m,\u001b[0m \u001b[1;33m(\u001b[0m\u001b[0mhost\u001b[0m\u001b[1;33m,\u001b[0m \u001b[0mport\u001b[0m\u001b[1;33m)\u001b[0m\u001b[1;33m,\u001b[0m \u001b[0mself\u001b[0m\u001b[1;33m.\u001b[0m\u001b[0msource_address\u001b[0m\u001b[1;33m)\u001b[0m\u001b[1;33m\u001b[0m\u001b[1;33m\u001b[0m\u001b[0m\n\u001b[1;32m--> 312\u001b[1;33m         return socket.create_connection((host, port), timeout,\n\u001b[0m\u001b[0;32m    313\u001b[0m                                         self.source_address)\n\u001b[0;32m    314\u001b[0m \u001b[1;33m\u001b[0m\u001b[0m\n",
      "\u001b[1;32m~\\anaconda3\\lib\\socket.py\u001b[0m in \u001b[0;36mcreate_connection\u001b[1;34m(address, timeout, source_address)\u001b[0m\n\u001b[0;32m    821\u001b[0m     \u001b[0mhost\u001b[0m\u001b[1;33m,\u001b[0m \u001b[0mport\u001b[0m \u001b[1;33m=\u001b[0m \u001b[0maddress\u001b[0m\u001b[1;33m\u001b[0m\u001b[1;33m\u001b[0m\u001b[0m\n\u001b[0;32m    822\u001b[0m     \u001b[0merr\u001b[0m \u001b[1;33m=\u001b[0m \u001b[1;32mNone\u001b[0m\u001b[1;33m\u001b[0m\u001b[1;33m\u001b[0m\u001b[0m\n\u001b[1;32m--> 823\u001b[1;33m     \u001b[1;32mfor\u001b[0m \u001b[0mres\u001b[0m \u001b[1;32min\u001b[0m \u001b[0mgetaddrinfo\u001b[0m\u001b[1;33m(\u001b[0m\u001b[0mhost\u001b[0m\u001b[1;33m,\u001b[0m \u001b[0mport\u001b[0m\u001b[1;33m,\u001b[0m \u001b[1;36m0\u001b[0m\u001b[1;33m,\u001b[0m \u001b[0mSOCK_STREAM\u001b[0m\u001b[1;33m)\u001b[0m\u001b[1;33m:\u001b[0m\u001b[1;33m\u001b[0m\u001b[1;33m\u001b[0m\u001b[0m\n\u001b[0m\u001b[0;32m    824\u001b[0m         \u001b[0maf\u001b[0m\u001b[1;33m,\u001b[0m \u001b[0msocktype\u001b[0m\u001b[1;33m,\u001b[0m \u001b[0mproto\u001b[0m\u001b[1;33m,\u001b[0m \u001b[0mcanonname\u001b[0m\u001b[1;33m,\u001b[0m \u001b[0msa\u001b[0m \u001b[1;33m=\u001b[0m \u001b[0mres\u001b[0m\u001b[1;33m\u001b[0m\u001b[1;33m\u001b[0m\u001b[0m\n\u001b[0;32m    825\u001b[0m         \u001b[0msock\u001b[0m \u001b[1;33m=\u001b[0m \u001b[1;32mNone\u001b[0m\u001b[1;33m\u001b[0m\u001b[1;33m\u001b[0m\u001b[0m\n",
      "\u001b[1;32m~\\anaconda3\\lib\\socket.py\u001b[0m in \u001b[0;36mgetaddrinfo\u001b[1;34m(host, port, family, type, proto, flags)\u001b[0m\n\u001b[0;32m    952\u001b[0m     \u001b[1;31m# and socket type values to enum constants.\u001b[0m\u001b[1;33m\u001b[0m\u001b[1;33m\u001b[0m\u001b[0m\n\u001b[0;32m    953\u001b[0m     \u001b[0maddrlist\u001b[0m \u001b[1;33m=\u001b[0m \u001b[1;33m[\u001b[0m\u001b[1;33m]\u001b[0m\u001b[1;33m\u001b[0m\u001b[1;33m\u001b[0m\u001b[0m\n\u001b[1;32m--> 954\u001b[1;33m     \u001b[1;32mfor\u001b[0m \u001b[0mres\u001b[0m \u001b[1;32min\u001b[0m \u001b[0m_socket\u001b[0m\u001b[1;33m.\u001b[0m\u001b[0mgetaddrinfo\u001b[0m\u001b[1;33m(\u001b[0m\u001b[0mhost\u001b[0m\u001b[1;33m,\u001b[0m \u001b[0mport\u001b[0m\u001b[1;33m,\u001b[0m \u001b[0mfamily\u001b[0m\u001b[1;33m,\u001b[0m \u001b[0mtype\u001b[0m\u001b[1;33m,\u001b[0m \u001b[0mproto\u001b[0m\u001b[1;33m,\u001b[0m \u001b[0mflags\u001b[0m\u001b[1;33m)\u001b[0m\u001b[1;33m:\u001b[0m\u001b[1;33m\u001b[0m\u001b[1;33m\u001b[0m\u001b[0m\n\u001b[0m\u001b[0;32m    955\u001b[0m         \u001b[0maf\u001b[0m\u001b[1;33m,\u001b[0m \u001b[0msocktype\u001b[0m\u001b[1;33m,\u001b[0m \u001b[0mproto\u001b[0m\u001b[1;33m,\u001b[0m \u001b[0mcanonname\u001b[0m\u001b[1;33m,\u001b[0m \u001b[0msa\u001b[0m \u001b[1;33m=\u001b[0m \u001b[0mres\u001b[0m\u001b[1;33m\u001b[0m\u001b[1;33m\u001b[0m\u001b[0m\n\u001b[0;32m    956\u001b[0m         addrlist.append((_intenum_converter(af, AddressFamily),\n",
      "\u001b[1;31mgaierror\u001b[0m: [Errno 11001] getaddrinfo failed"
     ]
    }
   ],
   "source": [
    "email()"
   ]
  },
  {
   "cell_type": "code",
   "execution_count": null,
   "id": "94dbd7df",
   "metadata": {},
   "outputs": [],
   "source": [
    "16. Write a function to read a complete pdf file.\n"
   ]
  },
  {
   "cell_type": "code",
   "execution_count": 9,
   "id": "64c052f4",
   "metadata": {},
   "outputs": [],
   "source": [
    "def pdfread():\n",
    "    \"\"\"This function reads a complete pdf file using pdfminer\"\"\"\n",
    "    from pdfminer.high_level import extract_text\n",
    "    text=extract_text(\"comp.pdf\")\n",
    "    print(text)"
   ]
  },
  {
   "cell_type": "code",
   "execution_count": 10,
   "id": "e23ca86e",
   "metadata": {},
   "outputs": [
    {
     "name": "stdout",
     "output_type": "stream",
     "text": [
      "CENTRAL BOARD OF SECONDARY EDUCATION \n",
      "\n",
      "CBSE/RO/BNG/PS/BHAGVAD GITA/2021 \n",
      "\n",
      "THE  PRINCIPALS/  HEAD  OF  INSTITUTIONS \n",
      "ALL THE  CBSE  AFFILIATED  SCH0OLS \n",
      "UNDER CBSE,  RO - BANGALORE \n",
      "\n",
      "Date: 28.11.2021 \n",
      "\n",
      "VOLUNTARY \n",
      "\n",
      "SUB:  Online competition to create awareness on  moral education and principles among students -\n",
      "\n",
      "'GITANUSHILANAM  2 021 '   by  In t e rn a t ion a l  Society for  Krishna  C on s c iou s n e s s   (ISKCON)  -  Reg. \n",
      "\n",
      "Sir/  Madam, \n",
      "\n",
      "On  the  occasion  of  'Gita  Jayanti\"',  Learn  Gita  Live  Gita,  an  education  wing  of  ISKCON,  in  collaboration\n",
      "\n",
      "with  Bhaktivedanta Gurukula  and  International School,  Vrindavan,  ISKcON  Bhagavad  Gita  Pathshala \n",
      "\n",
      "Dehradun,  Bhaktivedanta  Club  IT  Kanpur,  ISKCON  Ranchi  and  Bhaktivedanta  Club  IT  Patna  are  organizing \n",
      "\n",
      "GITANUSHILANAM  2021'. GITANUSHILANAM  is an online International competition based on  Bhagavad Gita. \n",
      "\n",
      "GITANUSHILANAM  2021  will  provide  opportunity  to  the  students  to  showcase  their  talent  on \n",
      "\n",
      "International  Platform.  This  competition  will  serve  as  tool  to  enhance  knowledge  about  our  treasured\n",
      "\n",
      "traditional  and  moral  values  and  principles.  The  folowing  three  types  of  competitions  will  be  held  under \n",
      "\n",
      "GITANUSHILANAM  2021 in  bilingual (English  & Hindi) \n",
      "\n",
      "1. Bhagavad Gita Quiz Competition (above 10 years) \n",
      "\n",
      "2.  Bhagavad Gita Shloka Recitation Competition (3  to 18 years) \n",
      "\n",
      "3.  Bhagavad Gita Treasure Hunt Competition (above 10 years) \n",
      "\n",
      "4.  Bhagavad Gita  Extempore Competition (10 to 18 years) \n",
      "\n",
      "These competitions will take place under the leadership of eminent personnel from  IITs  and IlIMs. The \n",
      "\n",
      "winner participants will  be awarded prizes worth lakhs and the successful participants will  also  be issues \n",
      "\n",
      "participation certificates. There is  no Registration fee for these competitions. \n",
      "\n",
      "Important Dates and Events: \n",
      "\n",
      "Online Registration \n",
      "\n",
      ": till  20th Dec,  2021 \n",
      "\n",
      "Gita Quiz (screening round) \n",
      "\n",
      "3rd Jan, 2022 \n",
      "\n",
      "Gita Quiz (final round)) \n",
      "\n",
      ":7th Jan, 2022 (for shortlisted candidates) \n",
      "\n",
      "Gita Shloka Competition (last day for submission): 3rd Jan,  2022 \n",
      "\n",
      "Gita Treasure Hunt (screening round) \n",
      "\n",
      "26th Dec, 2021 \n",
      "\n",
      "Gita Treasure Hunt (final  round) \n",
      "\n",
      "2nd Jan, 2022 \n",
      "\n",
      "Gita  Extempore (last day for submission) \n",
      "\n",
      "25th Dec, 2021 \n",
      "\n",
      "Gita  Extempore (final round) \n",
      "\n",
      ":1st Jan, 2022 \n",
      "\n",
      "Nuba \n",
      "\n",
      "ifststaafafrrto. 7, gurwgrarTE, aAifrzwaT, i a7 ,  aT ,  angr  s \n",
      "Regional  Office,  Degree College  Building  No.57,  Hesaraghatta Main  Road, Near Sapthagiri  Hospital,  Chimney  Hills, \n",
      "Chikkabanavara,  Bengaluru - 560 090 \n",
      "\n",
      "Website: www.cbse.nic.in,  Email: robengaluru.cbse@nic.in&robengaluru.cbse@gmail.com \n",
      "\n",
      "\f",
      "CENTRAL  BOARD OE SECONDARY EDUCATION \n",
      "\n",
      "Award ceremony: 9th Jan, 2022 Registration Link: httpsleamatalivegita.com/gitanushilanam \n",
      "Being  a  unique  competition  meant  for  creating  awareness  on  moral  education  and principles  among \n",
      "the  students,  schools  are  requested  to widely  disseminate  the  information  among  students  for  voluntary \n",
      "participation \n",
      "\n",
      "kihdep rge \n",
      "\n",
      "Yours faithfully \n",
      "\n",
      "(Dr Rarer Singh) 28 \n",
      "Regional Officer \n",
      "\n",
      "Rgional omce.  Degree Colege  Buikding  No  57  Hesaraghatta Main  Road.  Near Sapthagin Hospital  Chmney Hi \n",
      "Chikkabanavara.  Bengakun  - 60 090 \n",
      "webste  w.ctse.ns.r. Emak  obergatun stee@ns.n&obenaasur.ctseRamal.com \n",
      "\n",
      "\f",
      "\n"
     ]
    }
   ],
   "source": [
    "pdfread()"
   ]
  },
  {
   "cell_type": "code",
   "execution_count": 40,
   "id": "31e423c6",
   "metadata": {},
   "outputs": [],
   "source": [
    "def pdfread1():\n",
    "    \"\"\"This function reads a pdf file using PyPDF2\"\"\"\n",
    "    import PyPDF2\n",
    "    pdfFileObj=open('comp.pdf','rb')\n",
    "    pdfReader=PyPDF2.PdfFileReader(pdfFileObj)\n",
    "    print(pdfReader.numPages)\n",
    "    pageObj=pdfReader.getPage(0)\n",
    "    print(pageObj.extractText())\n",
    "    pdfFileObj.close()"
   ]
  },
  {
   "cell_type": "code",
   "execution_count": 7,
   "id": "ce16a5cf",
   "metadata": {},
   "outputs": [
    {
     "name": "stdout",
     "output_type": "stream",
     "text": [
      "2\n",
      "CENTRAL BOARD OF SECONDARY EDUCATION Date: 28.11.2021 CBSE/RO/BNG/PS/BHAGVAD GITA/2021 VOLUNTARY THE PRINCIPALS/ HEAD OF INSTITUTIONS ALL THE CBSE AFFILIATED SCH0OLS UNDER CBSE, RO -BANGALORE SUB: Online competition to create awareness on moral education and principles among students -'GITANUSHILANAM 2021' by International Society for Krishna Consciousness (ISKCON) - Reg. Sir/ Madam, On the occasion of 'Gita Jayanti\"', Learn Gita Live Gita, an education wing of ISKCON, in collaborationwith BhaktivedantaGurukula and InternationalSchool, Vrindavan, ISKcON Bhagavad Gita Pathshala Dehradun, Bhaktivedanta Club IT Kanpur, ISKCON Ranchi and Bhaktivedanta Club IT Patna are organizing GITANUSHILANAM 2021'. GITANUSHILANAM is an online International competition based on Bhagavad Gita. GITANUSHILANAM 2021 will provide opportunity to the students to showcase their talent on International Platform. This competition will serve as tool to enhance knowledge about our treasuredtraditional and moral values and principles. The folowing three types of competitions will be held under GITANUSHILANAM 2021 in bilingual (English & Hindi) 1. Bhagavad Gita Quiz Competition (above 10 years) 2. Bhagavad Gita Shloka Recitation Competition (3 to 18 years) 3. Bhagavad Gita Treasure Hunt Competition (above 10 years) 4. Bhagavad Gita Extempore Competition (10 to 18 years) These competitions will take place under the leadership of eminent personnel from IITs and IlIMs.The winner participants will be awarded prizes worth lakhs and the successful participants will also be issues participation certificates. There is no Registration fee for these competitions. Important Dates and Events: Online Registration : till 20th Dec, 2021 Gita Quiz (screening round) 3rd Jan, 2022 Gita Quiz (final round)) :7th Jan, 2022 (for shortlisted candidates) Gita Shloka Competition (last day for submission): 3rd Jan, 2022 Gita Treasure Hunt (screening round) 26th Dec, 2021 Gita Treasure Hunt (final round) 2nd Jan, 2022 Nuba Gita Extempore (last day for submission) 25th Dec, 2021 Gita Extempore (final round) :1st Jan, 2022 ifststaafafrrto. 7, gurwgrarTE, aAifrzwaT, ia7, aT, angr s Regional Office, Degree College Building No.57, Hesaraghatta Main Road, Near Sapthagiri Hospital, Chimney Hills, Chikkabanavara, Bengaluru -560 090 Website: www.cbse.nic.in, Email: robengaluru.cbse@nic.in&robengaluru.cbse@gmail.com \n"
     ]
    }
   ],
   "source": [
    "pdfread1()"
   ]
  },
  {
   "cell_type": "raw",
   "id": "644e9fb0",
   "metadata": {},
   "source": [
    "18. Write a function to filter out all the word files from a directory.\n"
   ]
  },
  {
   "cell_type": "code",
   "execution_count": 45,
   "id": "3a51a4cd",
   "metadata": {},
   "outputs": [],
   "source": [
    "import os,fnmatch\n",
    "def fname():\n",
    "    \"\"\" This function filters out all word files from a directory\"\"\"\n",
    "    ListOfFiles=os.listdir(\".\")\n",
    "    pattern=\"*.docx\"\n",
    "    for entry in ListOfFiles:\n",
    "        if entry.endswith(\".docx\"):\n",
    "            print(entry)"
   ]
  },
  {
   "cell_type": "code",
   "execution_count": 46,
   "id": "0c0409e1",
   "metadata": {},
   "outputs": [
    {
     "name": "stdout",
     "output_type": "stream",
     "text": [
      "sample.doc.docx\n",
      "sample1.doc.docx\n",
      "~$mple1.doc.docx\n"
     ]
    }
   ],
   "source": [
    "fname()"
   ]
  },
  {
   "cell_type": "code",
   "execution_count": 41,
   "id": "23bbf746",
   "metadata": {},
   "outputs": [],
   "source": [
    "import os\n",
    "def fname1():\n",
    "    \"\"\"This function filters out all word files from the root \"\"\"\n",
    "    for root,dirs,files in os.walk(\".\"):\n",
    "        for fn in files:\n",
    "            if '.docx' in fn:\n",
    "                print(fn)"
   ]
  },
  {
   "cell_type": "code",
   "execution_count": 31,
   "id": "8fe51715",
   "metadata": {},
   "outputs": [
    {
     "name": "stdout",
     "output_type": "stream",
     "text": [
      "sample.doc.docx\n",
      "sample1.doc.docx\n",
      "~$mple1.doc.docx\n",
      "Class 5 H TEACHERS.docx\n",
      "surya.docx\n",
      "Word Surya.docx\n",
      "हम भारत की बेटी हैं.docx.pdf\n",
      "Kavita_0516.docx\n",
      "Mayank_Resume.docx\n",
      "Mukund S Resume 1.docx\n",
      "RAMAKRISHNAN.docx\n",
      "Resume - Vijay Anand S PMP.docx\n",
      "Sunil Pawar Resume.docx\n",
      "Senthil_Honeywell_Oct21.docx\n",
      "Assignment_1.docx\n",
      "ISB_DMA_W3_Self-study Assignment 3.1_Template.docx\n",
      "Kavita_0516.docx\n",
      "Mayank_Resume.docx\n",
      "Merchant of Venice Act 3 scene 1 lines 1- 125 (1).docx\n",
      "Merchant of Venice Act 3 scene 1 lines 1- 125 (2).docx\n",
      "Merchant of Venice Act 3 scene 1 lines 1- 125 (3).docx\n",
      "Merchant of Venice Act 3 scene 1 lines 1- 125 (4).docx\n",
      "Merchant of Venice Act 3 scene 1 lines 1- 125 (5).docx\n",
      "Merchant of Venice Act 3 scene 1 lines 1- 125 (6).docx\n",
      "Merchant of Venice Act 3 scene 1 lines 1- 125.docx\n",
      "Mukund S Resume 1.docx\n",
      "Programming_Assingment1.docx\n",
      "Programming_Assingment2.docx\n",
      "PT 2 language Revision VIII.docx\n",
      "RAMAKRISHNAN.docx\n",
      "Resume - Vijay Anand S PMP.docx\n",
      "Sunil Pawar Resume.docx\n",
      "surya.docx\n",
      "~$ogramming_Assingment1.docx\n",
      "मेला.docx.pdf\n",
      "हम भारत की बेटी हैं.docx.pdf\n"
     ]
    }
   ],
   "source": [
    "fname1()"
   ]
  },
  {
   "cell_type": "code",
   "execution_count": null,
   "id": "de436d09",
   "metadata": {},
   "outputs": [],
   "source": []
  },
  {
   "cell_type": "code",
   "execution_count": null,
   "id": "6650f7b6",
   "metadata": {},
   "outputs": [],
   "source": [
    "13.Write a program to Shut down your System."
   ]
  },
  {
   "cell_type": "code",
   "execution_count": 15,
   "id": "2df9ca1a",
   "metadata": {},
   "outputs": [],
   "source": [
    "def shutdown():\n",
    "    \"\"\"This Function Shuts down the System \"\"\"\n",
    "    import os\n",
    "    os.system(\"shutdown /s /t 0\")\n",
    "    "
   ]
  },
  {
   "cell_type": "code",
   "execution_count": null,
   "id": "ad2788d1",
   "metadata": {},
   "outputs": [],
   "source": [
    "shutdown()"
   ]
  },
  {
   "cell_type": "raw",
   "id": "ed3f1ebc",
   "metadata": {},
   "source": [
    "17. Write a function to read a file.\n"
   ]
  },
  {
   "cell_type": "code",
   "execution_count": 18,
   "id": "182d5264",
   "metadata": {},
   "outputs": [],
   "source": [
    "def wordread():\n",
    "    \"\"\"This function reads a word file\"\"\"\n",
    "    import docx2txt\n",
    "    result=docx2txt.process(\"Word Surya.docx\",\"C:\\\\Users\\\\Admin\\.conda\")\n",
    "    return result"
   ]
  },
  {
   "cell_type": "code",
   "execution_count": 19,
   "id": "b77028de",
   "metadata": {},
   "outputs": [
    {
     "data": {
      "text/plain": [
       "'WELCOME TO PYTHON PROGRAMMING\\n\\n\\n\\nPython is a very user friendly language.\\n\\nIt is very easy.'"
      ]
     },
     "execution_count": 19,
     "metadata": {},
     "output_type": "execute_result"
    }
   ],
   "source": [
    "wordread()"
   ]
  },
  {
   "cell_type": "raw",
   "id": "b70fb22e",
   "metadata": {},
   "source": [
    "\n",
    "19. Write a function by which u can print an IP address of ur system."
   ]
  },
  {
   "cell_type": "code",
   "execution_count": 24,
   "id": "4cde4d99",
   "metadata": {},
   "outputs": [],
   "source": [
    "def ipaddress():\n",
    "    \"\"\"This function prints the IP address of the System\"\"\"\n",
    "    import socket\n",
    "    hostname=socket.gethostname()\n",
    "    ipaddr=socket.gethostbyname(hostname)\n",
    "    print(\"Computer Name :\" + hostname)\n",
    "    print(\"IP Address of the System :\", ipaddr)\n",
    "    "
   ]
  },
  {
   "cell_type": "code",
   "execution_count": 25,
   "id": "69ddfb07",
   "metadata": {},
   "outputs": [
    {
     "name": "stdout",
     "output_type": "stream",
     "text": [
      "Computer Name :DESKTOP-U2FTLKQ\n",
      "IP Address of the System : 192.168.3.104\n"
     ]
    }
   ],
   "source": [
    "ipaddress()"
   ]
  },
  {
   "cell_type": "code",
   "execution_count": null,
   "id": "40a11bf2",
   "metadata": {},
   "outputs": [],
   "source": []
  },
  {
   "cell_type": "code",
   "execution_count": null,
   "id": "f8d60be4",
   "metadata": {},
   "outputs": [],
   "source": []
  },
  {
   "cell_type": "raw",
   "id": "8357d64a",
   "metadata": {},
   "source": [
    "20.write a function by which u will b able to append two pdf files.\n"
   ]
  },
  {
   "cell_type": "code",
   "execution_count": 43,
   "id": "316d1bd3",
   "metadata": {},
   "outputs": [],
   "source": [
    "def append1():\n",
    "    \"\"\"this function appends two pdf files\"\"\"\n",
    "    from PyPDF2 import PdfFileMerger\n",
    "    pdfs=['certificate.pdf','comp.pdf']\n",
    "    merger=PdfFileMerger()\n",
    "    for pdf in pdfs:\n",
    "        merger.append(pdf)\n",
    "    merger.write(\"result.pdf\")\n",
    "    print(\"The two files are appended\")\n",
    "    merger.close()    "
   ]
  },
  {
   "cell_type": "code",
   "execution_count": 44,
   "id": "396a5c10",
   "metadata": {},
   "outputs": [
    {
     "name": "stdout",
     "output_type": "stream",
     "text": [
      "The two files are appended\n"
     ]
    }
   ],
   "source": [
    "append1()"
   ]
  },
  {
   "cell_type": "code",
   "execution_count": 48,
   "id": "3851b601",
   "metadata": {},
   "outputs": [],
   "source": [
    "def append2():\n",
    "    import PyPDF2\n",
    "    a=input(\"Enter the first pdf file :\")\n",
    "    b=input(\"Enter the second pdf file:\")\n",
    "    pdf1=open(a,'rb')\n",
    "    pdf2=open(b,'rb')\n",
    "    pdf1Reader=PyPDF2.PdfFileReader(pdf1)\n",
    "    pdf2Reader=PyPDF2.PdfFileReader(pdf2)\n",
    "    pdfWriter=PyPDF2.PdfFileWriter()\n",
    "\n",
    "    for pageNum in range(pdf1Reader.numPages):\n",
    "        pageObj=pdf1Reader.getPage(pageNum)\n",
    "        pdfWriter.addPage(pageObj)\n",
    "    for pageNum in range(pdf2Reader.numPages):\n",
    "        pageObj=pdf2Reader.getPage(pageNum)\n",
    "        pdfWriter.addPage(pageObj)\n",
    "    pdfOutputFile=open('Mergedfiles.pdf','wb')\n",
    "    pdfWriter.write(pdfOutputFile)\n",
    "    print(\"Files merged\")\n",
    "    pdfOutputFile.close()\n",
    "    pdf1.close()\n",
    "    pdf2.close()"
   ]
  },
  {
   "cell_type": "code",
   "execution_count": 49,
   "id": "0c1af6b3",
   "metadata": {},
   "outputs": [
    {
     "name": "stdout",
     "output_type": "stream",
     "text": [
      "Enter the first pdf file :certificate.pdf\n",
      "Enter the second pdf file:comp.pdf\n",
      "Files merged\n"
     ]
    }
   ],
   "source": [
    "\n",
    "append2()"
   ]
  },
  {
   "cell_type": "code",
   "execution_count": 5,
   "id": "870bba8e",
   "metadata": {},
   "outputs": [],
   "source": []
  },
  {
   "cell_type": "code",
   "execution_count": null,
   "id": "306e70cb",
   "metadata": {},
   "outputs": [],
   "source": []
  },
  {
   "cell_type": "code",
   "execution_count": null,
   "id": "a67a4f93",
   "metadata": {},
   "outputs": [],
   "source": []
  }
 ],
 "metadata": {
  "kernelspec": {
   "display_name": "Python 3 (ipykernel)",
   "language": "python",
   "name": "python3"
  },
  "language_info": {
   "codemirror_mode": {
    "name": "ipython",
    "version": 3
   },
   "file_extension": ".py",
   "mimetype": "text/x-python",
   "name": "python",
   "nbconvert_exporter": "python",
   "pygments_lexer": "ipython3",
   "version": "3.9.7"
  }
 },
 "nbformat": 4,
 "nbformat_minor": 5
}
